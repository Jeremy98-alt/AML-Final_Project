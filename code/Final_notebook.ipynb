{
  "nbformat": 4,
  "nbformat_minor": 0,
  "metadata": {
    "colab": {
      "name": "Final_notebook.ipynb",
      "provenance": [],
      "collapsed_sections": [
        "Nj5GhTFHZnnZ"
      ],
      "include_colab_link": true
    },
    "kernelspec": {
      "name": "python3",
      "display_name": "Python 3"
    },
    "language_info": {
      "name": "python"
    },
    "accelerator": "GPU"
  },
  "cells": [
    {
      "cell_type": "markdown",
      "metadata": {
        "id": "view-in-github",
        "colab_type": "text"
      },
      "source": [
        "<a href=\"https://colab.research.google.com/github/stdrr/AML-Final_Project/blob/main/code/Final_notebook.ipynb\" target=\"_parent\"><img src=\"https://colab.research.google.com/assets/colab-badge.svg\" alt=\"Open In Colab\"/></a>"
      ]
    },
    {
      "cell_type": "markdown",
      "source": [
        "# **Final Notebook of the AML Final Project**\n",
        "*Customized UltraFastLaneDetection model through the backbone RedNetInvolution*\n",
        "\n",
        "[Link to UltraFastLaneDetection repository](https://github.com/cfzd/Ultra-Fast-Lane-Detection.git)\n",
        "\n",
        "[Link to RedNetInvolution repository](https://github.com/d-li14/involution.git)\n",
        "\n",
        "[Link to the leaderboard for the Tusimple dataset](https://paperswithcode.com/sota/lane-detection-on-tusimple)"
      ],
      "metadata": {
        "id": "-dPhL_R5cb4O"
      }
    },
    {
      "cell_type": "markdown",
      "source": [
        "## Steps to train and test the model"
      ],
      "metadata": {
        "id": "_0YMMbcS7LZ0"
      }
    },
    {
      "cell_type": "markdown",
      "source": [
        "Mount the Google Drive"
      ],
      "metadata": {
        "id": "44EAQtLGdPg2"
      }
    },
    {
      "cell_type": "code",
      "source": [
        "from google.colab import drive\n",
        "drive._mount('/content/drive')"
      ],
      "metadata": {
        "id": "a__Q5JpuHAhG"
      },
      "execution_count": null,
      "outputs": []
    },
    {
      "cell_type": "markdown",
      "source": [
        "Before running the following cell:\n",
        "\n",
        "* change the path to the shared project folder"
      ],
      "metadata": {
        "id": "ila4b3cGgnEf"
      }
    },
    {
      "cell_type": "code",
      "source": [
        "import os\n",
        "\n",
        "path_to_final_project = '/content/drive/MyDrive/University/Second_year/AML/AML-Final_Project'\n",
        "os.environ['FINAL_PROJECT'] = path_to_final_project"
      ],
      "metadata": {
        "id": "0RngrTSRdrQC"
      },
      "execution_count": null,
      "outputs": []
    },
    {
      "cell_type": "markdown",
      "source": [
        "Get the customized code from our repository"
      ],
      "metadata": {
        "id": "JEEOWZh9eoAT"
      }
    },
    {
      "cell_type": "code",
      "source": [
        "!git clone https://github.com/stdrr/AML-Final_Project.git"
      ],
      "metadata": {
        "id": "d2c7ivXfHBsy"
      },
      "execution_count": null,
      "outputs": []
    },
    {
      "cell_type": "markdown",
      "source": [
        "Setup the environment: change working directory and install the required packages (\"pip -q\" makes pip quiet and no output is printed)"
      ],
      "metadata": {
        "id": "jL8x3pEkeuQx"
      }
    },
    {
      "cell_type": "code",
      "source": [
        "%cd AML-Final_Project/code"
      ],
      "metadata": {
        "id": "7bxiO75oHTbR"
      },
      "execution_count": null,
      "outputs": []
    },
    {
      "cell_type": "code",
      "source": [
        "!pip install -qr requirements.txt"
      ],
      "metadata": {
        "id": "mPtbGmQ-IwsP"
      },
      "execution_count": null,
      "outputs": []
    },
    {
      "cell_type": "markdown",
      "source": [
        "**Don't open the \"Train the model\" section if you have to perform only the test**"
      ],
      "metadata": {
        "id": "cyu3FrRah7i_"
      }
    },
    {
      "cell_type": "markdown",
      "source": [
        "### Train the model"
      ],
      "metadata": {
        "id": "Jee2ogVWe7NA"
      }
    },
    {
      "cell_type": "markdown",
      "source": [
        "Link the data and the checkpoints' directories"
      ],
      "metadata": {
        "id": "dIYfTmI7dSCi"
      }
    },
    {
      "cell_type": "code",
      "source": [
        "!ln -s $FINAL_PROJECT/data/tusimple_old ../tusimple\n",
        "!ln -s $FINAL_PROJECT/checkpoints ../checkpoints"
      ],
      "metadata": {
        "id": "EYv2GiS__jkL"
      },
      "execution_count": null,
      "outputs": []
    },
    {
      "cell_type": "markdown",
      "source": [
        "Load Tensorboard to monitor the loss and the metrics"
      ],
      "metadata": {
        "id": "yswyNc3thRCf"
      }
    },
    {
      "cell_type": "code",
      "source": [
        "%load_ext tensorboard\n",
        "%tensorboard --logdir ../checkpoints/tusimple --bind_all "
      ],
      "metadata": {
        "id": "60oCNpQQhQoS"
      },
      "execution_count": null,
      "outputs": []
    },
    {
      "cell_type": "code",
      "source": [
        "!python UltraFastLaneDetection/train.py UltraFastLaneDetection/configs/tusimple.py"
      ],
      "metadata": {
        "id": "L7z8j5TubXFt"
      },
      "execution_count": null,
      "outputs": []
    },
    {
      "cell_type": "markdown",
      "source": [
        "### Test the baseline"
      ],
      "metadata": {
        "id": "mkYVv_XNRQtP"
      }
    },
    {
      "cell_type": "markdown",
      "source": [
        "**Run this section only if you are testing a baseline (ResNet) model. Go directly to the \"Test the model\" section otherwise**"
      ],
      "metadata": {
        "id": "Y-Kkgbjhk_op"
      }
    },
    {
      "cell_type": "markdown",
      "source": [
        "Import the original code"
      ],
      "metadata": {
        "id": "SSPBDxZvRiXP"
      }
    },
    {
      "cell_type": "code",
      "source": [
        "!git clone https://github.com/cfzd/Ultra-Fast-Lane-Detection.git /content/UltraFastLaneDetection"
      ],
      "metadata": {
        "id": "xJ3cSXw0RWq-"
      },
      "execution_count": null,
      "outputs": []
    },
    {
      "cell_type": "markdown",
      "source": [
        "Create a symbolic link to the checkpoints folder, to the test set and to the results folder\n",
        "\n"
      ],
      "metadata": {
        "id": "alGKH5B6Rg1b"
      }
    },
    {
      "cell_type": "code",
      "source": [
        "!ln -s $FINAL_PROJECT/checkpoints ../checkpoints\n",
        "!ln -s $FINAL_PROJECT/data/tusimple_test ../tusimple_test\n",
        "!ln -s $FINAL_PROJECT/results ../results"
      ],
      "metadata": {
        "id": "bbAeG5R7Rg1c"
      },
      "execution_count": null,
      "outputs": []
    },
    {
      "cell_type": "markdown",
      "source": [
        "Before running the test:\n",
        "\n",
        "* add the path to the checkpoint to test in `test_model`, e.g. `test_model='../checkpoints/{YOUR FOLDER}/{YOUR CHECKPOINT}'`\n",
        "* change the variable `model_name` with the name of the model you are testing\n",
        "* change the variable `epoch` with the number of the epoch of the checkpoint\n",
        "* change the variable `backbone` with the depth of the backbone"
      ],
      "metadata": {
        "id": "l-XSEt1ORg1c"
      }
    },
    {
      "cell_type": "code",
      "source": [
        "test_model = '../checkpoints/tusimple/20211209_130934_lr_4e-04_b_32_baseline18/ep099.pth' # path to checkpoint\n",
        "model_name = 'baseline18' # name of the model to test\n",
        "epoch = '99' # epoch of the checkpoint\n",
        "backbone = '18'\n",
        "\n",
        "os.environ['TEST_MODEL'] = test_model\n",
        "os.environ['MODEL_NAME'] = model_name\n",
        "os.environ['EPOCH'] = epoch\n",
        "os.environ['BACKBONE'] = backbone"
      ],
      "metadata": {
        "id": "0x5T951zRg1c"
      },
      "execution_count": null,
      "outputs": []
    },
    {
      "cell_type": "code",
      "source": [
        "!mkdir -p ../results/$MODEL_NAME/$EPOCH"
      ],
      "metadata": {
        "id": "D91fev5CRg1d"
      },
      "execution_count": null,
      "outputs": []
    },
    {
      "cell_type": "markdown",
      "source": [
        "Run the test script"
      ],
      "metadata": {
        "id": "VyBt4WTIRg1d"
      }
    },
    {
      "cell_type": "code",
      "source": [
        "!python ../../UltraFastLaneDetection/test.py UltraFastLaneDetection/configs/tusimple.py \\\n",
        "--data_root ../tusimple_test \\\n",
        "--backbone $BACKBONE \\\n",
        "--test_model $TEST_MODEL \\\n",
        "--test_work_dir ../results/$MODEL_NAME/$EPOCH"
      ],
      "metadata": {
        "id": "lezUwDJxRg1d"
      },
      "execution_count": null,
      "outputs": []
    },
    {
      "cell_type": "markdown",
      "source": [
        "Test the model's speed.\n",
        "\n",
        "Before running the following command:\n",
        "\n",
        "* open /content/UltraFastLaneDetection/speed_simple.py\n",
        "* change the backbone number at line 9 with the depth of the backbone of your model \\[either 18 or 34\\]"
      ],
      "metadata": {
        "id": "_upr6UQgVj9i"
      }
    },
    {
      "cell_type": "code",
      "source": [
        "!python ../../UltraFastLaneDetection/speed_simple.py"
      ],
      "metadata": {
        "id": "oIVb8IK5Vj9j"
      },
      "execution_count": null,
      "outputs": []
    },
    {
      "cell_type": "markdown",
      "source": [
        "**If you have to test another model that is not a baseline, please restart the kernel and re-run the initial section; then go to \"Test the model\"**"
      ],
      "metadata": {
        "id": "fB90zP5Vivsa"
      }
    },
    {
      "cell_type": "markdown",
      "source": [
        "### Test the model"
      ],
      "metadata": {
        "id": "I6mXsHJPGHJi"
      }
    },
    {
      "cell_type": "markdown",
      "source": [
        "Create a symbolic link to the checkpoints folder, to the test set and to the results folder\n",
        "\n"
      ],
      "metadata": {
        "id": "nFTB120GG7Ua"
      }
    },
    {
      "cell_type": "code",
      "source": [
        "!ln -s $FINAL_PROJECT/checkpoints ../checkpoints\n",
        "!ln -s $FINAL_PROJECT/data/tusimple_test ../tusimple_test\n",
        "!ln -s $FINAL_PROJECT/results ../results"
      ],
      "metadata": {
        "id": "8PIuQixGGM5L"
      },
      "execution_count": null,
      "outputs": []
    },
    {
      "cell_type": "markdown",
      "source": [
        "Before running the test:\n",
        "\n",
        "* add the path to the checkpoint to test in `test_model`, e.g. `test_model='../checkpoints/{YOUR FOLDER}/{YOUR CHECKPOINT}'`\n",
        "* change the variable `model_name` with the name of the model you are testing\n",
        "* change the variable `epoch` with the number of the epoch of the checkpoint\n",
        "* change the variable `backbone` with the depth of the backbone "
      ],
      "metadata": {
        "id": "HmZmGXS6G-6M"
      }
    },
    {
      "cell_type": "code",
      "source": [
        "test_model = '../checkpoints/tusimple/20211212_161502_lr_4e-04_b_32_rednet38_fixed/ep099.pth' # path to checkpoint\n",
        "model_name = 'rednet38_fixed' # name of the model to test\n",
        "epoch = '99' # epoch of the checkpoint\n",
        "backbone = '38'\n",
        "\n",
        "os.environ['TEST_MODEL'] = test_model\n",
        "os.environ['MODEL_NAME'] = model_name\n",
        "os.environ['EPOCH'] = epoch\n",
        "os.environ['BACKBONE'] = backbone"
      ],
      "metadata": {
        "id": "iLwUqFSSG6Sw"
      },
      "execution_count": null,
      "outputs": []
    },
    {
      "cell_type": "code",
      "source": [
        "!mkdir -p ../results/$MODEL_NAME/$EPOCH"
      ],
      "metadata": {
        "id": "ZbVlcaGLJubv"
      },
      "execution_count": null,
      "outputs": []
    },
    {
      "cell_type": "markdown",
      "source": [
        "Before running the following command:\n",
        "\n",
        "* open the file /content/AML-Final_Project/code/cfg_file.json\n",
        "* make sure that the pretrained checkpoint of the backbone matches with the backbone of your model\n",
        "\n",
        "Run the test script"
      ],
      "metadata": {
        "id": "kb4RCPYGI47l"
      }
    },
    {
      "cell_type": "code",
      "source": [
        "!python UltraFastLaneDetection/test.py UltraFastLaneDetection/configs/tusimple.py \\\n",
        "--data_root ../tusimple_test \\\n",
        "--backbone $BACKBONE \\\n",
        "--test_model $TEST_MODEL \\\n",
        "--test_work_dir ../results/$MODEL_NAME/$EPOCH"
      ],
      "metadata": {
        "id": "Lmaz9-xlI2l-"
      },
      "execution_count": null,
      "outputs": []
    },
    {
      "cell_type": "markdown",
      "source": [
        "Test the model's speed.\n",
        "\n",
        "Before running the following command:\n",
        "\n",
        "* open /content/AML-Final_Project/code/UltraFastLaneDetection/speed_simple.py\n",
        "* change the backbone number at line 22 with the depth of the backbone of your model"
      ],
      "metadata": {
        "id": "unRGwRLaNiI1"
      }
    },
    {
      "cell_type": "code",
      "source": [
        "!python UltraFastLaneDetection/speed_simple.py"
      ],
      "metadata": {
        "id": "XLELl6NhNka1"
      },
      "execution_count": null,
      "outputs": []
    }
  ]
}